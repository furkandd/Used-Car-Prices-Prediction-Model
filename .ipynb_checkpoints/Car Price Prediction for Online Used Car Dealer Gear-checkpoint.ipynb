{
 "cells": [
  {
   "cell_type": "markdown",
   "id": "37dcb531",
   "metadata": {},
   "source": [
    "# Building a User Car Price Prediction Model for Gear\n",
    "<br>\n",
    "<br>\n",
    "In this project, I will do some analysis on a sample data of used vehicles and deploy a Machine Learning model to predict vehicle prices by following the steps below.\n",
    "<br>\n",
    "<br>\n",
    "1. <b>Import Packages:</b> We'll be importing relevant libraries and packages.\n",
    "<br>\n",
    "2. <b>Data Upload:</b> We are using a sample data scrape provided by an online used car dealer named Gear.\n",
    "<br>\n",
    "3. <b>Business Problem:</b> We'll frame the problem based on the dataset description.\n",
    "<br>\n",
    "4. <b>Exploratory Data Analsis (EDA) I:</b> We'll carry out an exploratory analysis to figure out the important features and creating new combination of features.\n",
    "<br>\n",
    "5. <b>Data Cleaning and EDA II:</b> We'll clean the raw data and address any data quality issues. \n",
    "<br>\n",
    "6. <b>Data Analysis:</b> At this step, we are going to be analyzing the cleaned data and providing insights. \n",
    "<br>\n",
    "7. <b>Preprocessing and ML Modelling:</b> We'll process the data for ML models and do some feature engineering before we choose our ML algorithm. \n",
    "<br>"
   ]
  },
  {
   "cell_type": "markdown",
   "id": "824da8dd",
   "metadata": {},
   "source": [
    "### Step 1: Import Packages"
   ]
  },
  {
   "cell_type": "code",
   "execution_count": 1,
   "id": "f4aed97f",
   "metadata": {
    "scrolled": true
   },
   "outputs": [],
   "source": [
    "import datetime\n",
    "\n",
    "import numpy as np\n",
    "import pandas as pd\n",
    "\n",
    "from wordcloud import WordCloud, STOPWORDS \n",
    "\n",
    "import re\n",
    "\n",
    "import warnings\n",
    "warnings.filterwarnings('ignore')\n",
    "\n",
    "\n",
    "import matplotlib.pyplot as plt\n",
    "import seaborn as sns\n",
    "%matplotlib inline\n",
    "\n",
    "from sklearn.model_selection import train_test_split\n",
    "from sklearn.linear_model import LinearRegression,Ridge, Lasso\n",
    "from sklearn.ensemble import RandomForestRegressor\n",
    "from sklearn.preprocessing import StandardScaler\n",
    "from sklearn.metrics import r2_score\n",
    "\n",
    "from sklearn.feature_selection import SelectKBest, f_regression\n",
    "from sklearn.model_selection import train_test_split, cross_val_score\n",
    "from sklearn.neural_network import MLPRegressor\n",
    "from sklearn.preprocessing import PolynomialFeatures\n",
    "from sklearn.svm import SVR\n",
    "import statsmodels.api as sm\n"
   ]
  },
  {
   "cell_type": "markdown",
   "id": "50bca9b2",
   "metadata": {},
   "source": [
    "### Step 2: Data Upload"
   ]
  },
  {
   "cell_type": "code",
   "execution_count": 2,
   "id": "ca7881ce",
   "metadata": {
    "scrolled": true
   },
   "outputs": [
    {
     "ename": "FileNotFoundError",
     "evalue": "[Errno 2] No such file or directory: 'vehicles.csv'",
     "output_type": "error",
     "traceback": [
      "\u001b[1;31m---------------------------------------------------------------------------\u001b[0m",
      "\u001b[1;31mFileNotFoundError\u001b[0m                         Traceback (most recent call last)",
      "\u001b[1;32m~\\AppData\\Local\\Temp/ipykernel_28856/2777851138.py\u001b[0m in \u001b[0;36m<module>\u001b[1;34m\u001b[0m\n\u001b[1;32m----> 1\u001b[1;33m \u001b[0mcars\u001b[0m \u001b[1;33m=\u001b[0m \u001b[0mpd\u001b[0m\u001b[1;33m.\u001b[0m\u001b[0mread_csv\u001b[0m\u001b[1;33m(\u001b[0m\u001b[1;34m\"vehicles.csv\"\u001b[0m\u001b[1;33m)\u001b[0m\u001b[1;33m\u001b[0m\u001b[1;33m\u001b[0m\u001b[0m\n\u001b[0m\u001b[0;32m      2\u001b[0m \u001b[1;33m\u001b[0m\u001b[0m\n\u001b[0;32m      3\u001b[0m \u001b[1;31m#Pandas normally shows a limited number of columns on Jupyter notebooks.\u001b[0m\u001b[1;33m\u001b[0m\u001b[1;33m\u001b[0m\u001b[0m\n\u001b[0;32m      4\u001b[0m \u001b[1;31m#The line below is enforcing it to display all the columns available.\u001b[0m\u001b[1;33m\u001b[0m\u001b[1;33m\u001b[0m\u001b[0m\n\u001b[0;32m      5\u001b[0m \u001b[0mpd\u001b[0m\u001b[1;33m.\u001b[0m\u001b[0mset_option\u001b[0m\u001b[1;33m(\u001b[0m\u001b[1;34m\"display.max_columns\"\u001b[0m\u001b[1;33m,\u001b[0m \u001b[1;36m15\u001b[0m\u001b[1;33m)\u001b[0m\u001b[1;33m\u001b[0m\u001b[1;33m\u001b[0m\u001b[0m\n",
      "\u001b[1;32m~\\anaconda3\\lib\\site-packages\\pandas\\util\\_decorators.py\u001b[0m in \u001b[0;36mwrapper\u001b[1;34m(*args, **kwargs)\u001b[0m\n\u001b[0;32m    309\u001b[0m                     \u001b[0mstacklevel\u001b[0m\u001b[1;33m=\u001b[0m\u001b[0mstacklevel\u001b[0m\u001b[1;33m,\u001b[0m\u001b[1;33m\u001b[0m\u001b[1;33m\u001b[0m\u001b[0m\n\u001b[0;32m    310\u001b[0m                 )\n\u001b[1;32m--> 311\u001b[1;33m             \u001b[1;32mreturn\u001b[0m \u001b[0mfunc\u001b[0m\u001b[1;33m(\u001b[0m\u001b[1;33m*\u001b[0m\u001b[0margs\u001b[0m\u001b[1;33m,\u001b[0m \u001b[1;33m**\u001b[0m\u001b[0mkwargs\u001b[0m\u001b[1;33m)\u001b[0m\u001b[1;33m\u001b[0m\u001b[1;33m\u001b[0m\u001b[0m\n\u001b[0m\u001b[0;32m    312\u001b[0m \u001b[1;33m\u001b[0m\u001b[0m\n\u001b[0;32m    313\u001b[0m         \u001b[1;32mreturn\u001b[0m \u001b[0mwrapper\u001b[0m\u001b[1;33m\u001b[0m\u001b[1;33m\u001b[0m\u001b[0m\n",
      "\u001b[1;32m~\\anaconda3\\lib\\site-packages\\pandas\\io\\parsers\\readers.py\u001b[0m in \u001b[0;36mread_csv\u001b[1;34m(filepath_or_buffer, sep, delimiter, header, names, index_col, usecols, squeeze, prefix, mangle_dupe_cols, dtype, engine, converters, true_values, false_values, skipinitialspace, skiprows, skipfooter, nrows, na_values, keep_default_na, na_filter, verbose, skip_blank_lines, parse_dates, infer_datetime_format, keep_date_col, date_parser, dayfirst, cache_dates, iterator, chunksize, compression, thousands, decimal, lineterminator, quotechar, quoting, doublequote, escapechar, comment, encoding, encoding_errors, dialect, error_bad_lines, warn_bad_lines, on_bad_lines, delim_whitespace, low_memory, memory_map, float_precision, storage_options)\u001b[0m\n\u001b[0;32m    584\u001b[0m     \u001b[0mkwds\u001b[0m\u001b[1;33m.\u001b[0m\u001b[0mupdate\u001b[0m\u001b[1;33m(\u001b[0m\u001b[0mkwds_defaults\u001b[0m\u001b[1;33m)\u001b[0m\u001b[1;33m\u001b[0m\u001b[1;33m\u001b[0m\u001b[0m\n\u001b[0;32m    585\u001b[0m \u001b[1;33m\u001b[0m\u001b[0m\n\u001b[1;32m--> 586\u001b[1;33m     \u001b[1;32mreturn\u001b[0m \u001b[0m_read\u001b[0m\u001b[1;33m(\u001b[0m\u001b[0mfilepath_or_buffer\u001b[0m\u001b[1;33m,\u001b[0m \u001b[0mkwds\u001b[0m\u001b[1;33m)\u001b[0m\u001b[1;33m\u001b[0m\u001b[1;33m\u001b[0m\u001b[0m\n\u001b[0m\u001b[0;32m    587\u001b[0m \u001b[1;33m\u001b[0m\u001b[0m\n\u001b[0;32m    588\u001b[0m \u001b[1;33m\u001b[0m\u001b[0m\n",
      "\u001b[1;32m~\\anaconda3\\lib\\site-packages\\pandas\\io\\parsers\\readers.py\u001b[0m in \u001b[0;36m_read\u001b[1;34m(filepath_or_buffer, kwds)\u001b[0m\n\u001b[0;32m    480\u001b[0m \u001b[1;33m\u001b[0m\u001b[0m\n\u001b[0;32m    481\u001b[0m     \u001b[1;31m# Create the parser.\u001b[0m\u001b[1;33m\u001b[0m\u001b[1;33m\u001b[0m\u001b[0m\n\u001b[1;32m--> 482\u001b[1;33m     \u001b[0mparser\u001b[0m \u001b[1;33m=\u001b[0m \u001b[0mTextFileReader\u001b[0m\u001b[1;33m(\u001b[0m\u001b[0mfilepath_or_buffer\u001b[0m\u001b[1;33m,\u001b[0m \u001b[1;33m**\u001b[0m\u001b[0mkwds\u001b[0m\u001b[1;33m)\u001b[0m\u001b[1;33m\u001b[0m\u001b[1;33m\u001b[0m\u001b[0m\n\u001b[0m\u001b[0;32m    483\u001b[0m \u001b[1;33m\u001b[0m\u001b[0m\n\u001b[0;32m    484\u001b[0m     \u001b[1;32mif\u001b[0m \u001b[0mchunksize\u001b[0m \u001b[1;32mor\u001b[0m \u001b[0miterator\u001b[0m\u001b[1;33m:\u001b[0m\u001b[1;33m\u001b[0m\u001b[1;33m\u001b[0m\u001b[0m\n",
      "\u001b[1;32m~\\anaconda3\\lib\\site-packages\\pandas\\io\\parsers\\readers.py\u001b[0m in \u001b[0;36m__init__\u001b[1;34m(self, f, engine, **kwds)\u001b[0m\n\u001b[0;32m    809\u001b[0m             \u001b[0mself\u001b[0m\u001b[1;33m.\u001b[0m\u001b[0moptions\u001b[0m\u001b[1;33m[\u001b[0m\u001b[1;34m\"has_index_names\"\u001b[0m\u001b[1;33m]\u001b[0m \u001b[1;33m=\u001b[0m \u001b[0mkwds\u001b[0m\u001b[1;33m[\u001b[0m\u001b[1;34m\"has_index_names\"\u001b[0m\u001b[1;33m]\u001b[0m\u001b[1;33m\u001b[0m\u001b[1;33m\u001b[0m\u001b[0m\n\u001b[0;32m    810\u001b[0m \u001b[1;33m\u001b[0m\u001b[0m\n\u001b[1;32m--> 811\u001b[1;33m         \u001b[0mself\u001b[0m\u001b[1;33m.\u001b[0m\u001b[0m_engine\u001b[0m \u001b[1;33m=\u001b[0m \u001b[0mself\u001b[0m\u001b[1;33m.\u001b[0m\u001b[0m_make_engine\u001b[0m\u001b[1;33m(\u001b[0m\u001b[0mself\u001b[0m\u001b[1;33m.\u001b[0m\u001b[0mengine\u001b[0m\u001b[1;33m)\u001b[0m\u001b[1;33m\u001b[0m\u001b[1;33m\u001b[0m\u001b[0m\n\u001b[0m\u001b[0;32m    812\u001b[0m \u001b[1;33m\u001b[0m\u001b[0m\n\u001b[0;32m    813\u001b[0m     \u001b[1;32mdef\u001b[0m \u001b[0mclose\u001b[0m\u001b[1;33m(\u001b[0m\u001b[0mself\u001b[0m\u001b[1;33m)\u001b[0m\u001b[1;33m:\u001b[0m\u001b[1;33m\u001b[0m\u001b[1;33m\u001b[0m\u001b[0m\n",
      "\u001b[1;32m~\\anaconda3\\lib\\site-packages\\pandas\\io\\parsers\\readers.py\u001b[0m in \u001b[0;36m_make_engine\u001b[1;34m(self, engine)\u001b[0m\n\u001b[0;32m   1038\u001b[0m             )\n\u001b[0;32m   1039\u001b[0m         \u001b[1;31m# error: Too many arguments for \"ParserBase\"\u001b[0m\u001b[1;33m\u001b[0m\u001b[1;33m\u001b[0m\u001b[0m\n\u001b[1;32m-> 1040\u001b[1;33m         \u001b[1;32mreturn\u001b[0m \u001b[0mmapping\u001b[0m\u001b[1;33m[\u001b[0m\u001b[0mengine\u001b[0m\u001b[1;33m]\u001b[0m\u001b[1;33m(\u001b[0m\u001b[0mself\u001b[0m\u001b[1;33m.\u001b[0m\u001b[0mf\u001b[0m\u001b[1;33m,\u001b[0m \u001b[1;33m**\u001b[0m\u001b[0mself\u001b[0m\u001b[1;33m.\u001b[0m\u001b[0moptions\u001b[0m\u001b[1;33m)\u001b[0m  \u001b[1;31m# type: ignore[call-arg]\u001b[0m\u001b[1;33m\u001b[0m\u001b[1;33m\u001b[0m\u001b[0m\n\u001b[0m\u001b[0;32m   1041\u001b[0m \u001b[1;33m\u001b[0m\u001b[0m\n\u001b[0;32m   1042\u001b[0m     \u001b[1;32mdef\u001b[0m \u001b[0m_failover_to_python\u001b[0m\u001b[1;33m(\u001b[0m\u001b[0mself\u001b[0m\u001b[1;33m)\u001b[0m\u001b[1;33m:\u001b[0m\u001b[1;33m\u001b[0m\u001b[1;33m\u001b[0m\u001b[0m\n",
      "\u001b[1;32m~\\anaconda3\\lib\\site-packages\\pandas\\io\\parsers\\c_parser_wrapper.py\u001b[0m in \u001b[0;36m__init__\u001b[1;34m(self, src, **kwds)\u001b[0m\n\u001b[0;32m     49\u001b[0m \u001b[1;33m\u001b[0m\u001b[0m\n\u001b[0;32m     50\u001b[0m         \u001b[1;31m# open handles\u001b[0m\u001b[1;33m\u001b[0m\u001b[1;33m\u001b[0m\u001b[0m\n\u001b[1;32m---> 51\u001b[1;33m         \u001b[0mself\u001b[0m\u001b[1;33m.\u001b[0m\u001b[0m_open_handles\u001b[0m\u001b[1;33m(\u001b[0m\u001b[0msrc\u001b[0m\u001b[1;33m,\u001b[0m \u001b[0mkwds\u001b[0m\u001b[1;33m)\u001b[0m\u001b[1;33m\u001b[0m\u001b[1;33m\u001b[0m\u001b[0m\n\u001b[0m\u001b[0;32m     52\u001b[0m         \u001b[1;32massert\u001b[0m \u001b[0mself\u001b[0m\u001b[1;33m.\u001b[0m\u001b[0mhandles\u001b[0m \u001b[1;32mis\u001b[0m \u001b[1;32mnot\u001b[0m \u001b[1;32mNone\u001b[0m\u001b[1;33m\u001b[0m\u001b[1;33m\u001b[0m\u001b[0m\n\u001b[0;32m     53\u001b[0m \u001b[1;33m\u001b[0m\u001b[0m\n",
      "\u001b[1;32m~\\anaconda3\\lib\\site-packages\\pandas\\io\\parsers\\base_parser.py\u001b[0m in \u001b[0;36m_open_handles\u001b[1;34m(self, src, kwds)\u001b[0m\n\u001b[0;32m    220\u001b[0m         \u001b[0mLet\u001b[0m \u001b[0mthe\u001b[0m \u001b[0mreaders\u001b[0m \u001b[0mopen\u001b[0m \u001b[0mIOHandles\u001b[0m \u001b[0mafter\u001b[0m \u001b[0mthey\u001b[0m \u001b[0mare\u001b[0m \u001b[0mdone\u001b[0m \u001b[1;32mwith\u001b[0m \u001b[0mtheir\u001b[0m \u001b[0mpotential\u001b[0m \u001b[0mraises\u001b[0m\u001b[1;33m.\u001b[0m\u001b[1;33m\u001b[0m\u001b[1;33m\u001b[0m\u001b[0m\n\u001b[0;32m    221\u001b[0m         \"\"\"\n\u001b[1;32m--> 222\u001b[1;33m         self.handles = get_handle(\n\u001b[0m\u001b[0;32m    223\u001b[0m             \u001b[0msrc\u001b[0m\u001b[1;33m,\u001b[0m\u001b[1;33m\u001b[0m\u001b[1;33m\u001b[0m\u001b[0m\n\u001b[0;32m    224\u001b[0m             \u001b[1;34m\"r\"\u001b[0m\u001b[1;33m,\u001b[0m\u001b[1;33m\u001b[0m\u001b[1;33m\u001b[0m\u001b[0m\n",
      "\u001b[1;32m~\\anaconda3\\lib\\site-packages\\pandas\\io\\common.py\u001b[0m in \u001b[0;36mget_handle\u001b[1;34m(path_or_buf, mode, encoding, compression, memory_map, is_text, errors, storage_options)\u001b[0m\n\u001b[0;32m    700\u001b[0m         \u001b[1;32mif\u001b[0m \u001b[0mioargs\u001b[0m\u001b[1;33m.\u001b[0m\u001b[0mencoding\u001b[0m \u001b[1;32mand\u001b[0m \u001b[1;34m\"b\"\u001b[0m \u001b[1;32mnot\u001b[0m \u001b[1;32min\u001b[0m \u001b[0mioargs\u001b[0m\u001b[1;33m.\u001b[0m\u001b[0mmode\u001b[0m\u001b[1;33m:\u001b[0m\u001b[1;33m\u001b[0m\u001b[1;33m\u001b[0m\u001b[0m\n\u001b[0;32m    701\u001b[0m             \u001b[1;31m# Encoding\u001b[0m\u001b[1;33m\u001b[0m\u001b[1;33m\u001b[0m\u001b[0m\n\u001b[1;32m--> 702\u001b[1;33m             handle = open(\n\u001b[0m\u001b[0;32m    703\u001b[0m                 \u001b[0mhandle\u001b[0m\u001b[1;33m,\u001b[0m\u001b[1;33m\u001b[0m\u001b[1;33m\u001b[0m\u001b[0m\n\u001b[0;32m    704\u001b[0m                 \u001b[0mioargs\u001b[0m\u001b[1;33m.\u001b[0m\u001b[0mmode\u001b[0m\u001b[1;33m,\u001b[0m\u001b[1;33m\u001b[0m\u001b[1;33m\u001b[0m\u001b[0m\n",
      "\u001b[1;31mFileNotFoundError\u001b[0m: [Errno 2] No such file or directory: 'vehicles.csv'"
     ]
    }
   ],
   "source": [
    "cars = pd.read_csv(\"vehicles.csv\")\n",
    "\n",
    "#Pandas normally shows a limited number of columns on Jupyter notebooks.\n",
    "#The line below is enforcing it to display all the columns available. \n",
    "pd.set_option(\"display.max_columns\", 15)\n",
    "cars.head(5)\n",
    "\n"
   ]
  },
  {
   "cell_type": "markdown",
   "id": "d70c41fc",
   "metadata": {},
   "source": [
    "### Step 3: Business Problem\n",
    "\n",
    "The dataset provided by Gear online dealership contains market data obtained from listing websites. The dataset contains <b>price</b> variable which is continuous data and tells us about the asking price of each car in the dataset.\n",
    "\n",
    "Our aim here is to analyze the data and <b>predict the price </b> of a car given that we have other attributes of that vehicle."
   ]
  },
  {
   "cell_type": "markdown",
   "id": "df227079",
   "metadata": {},
   "source": [
    "### Step 4: Exploratory Data Analsis (EDA)\n",
    "<br>\n",
    "In this part, we will follow the steps below and do our EDA to get more information about our data.\n",
    "<br>\n",
    "\n",
    "* Check data size\n",
    "* Check data type of columns\n",
    "* Check for duplicate entries\n",
    "* Check for null values\n",
    "* Check for data entry error and outliers\n",
    "* Look for the frequency distribution in categorical columns\n",
    "* Initial insights"
   ]
  },
  {
   "cell_type": "markdown",
   "id": "8e8bc386",
   "metadata": {},
   "source": [
    "#### Check data size"
   ]
  },
  {
   "cell_type": "code",
   "execution_count": null,
   "id": "db0009bd",
   "metadata": {},
   "outputs": [],
   "source": [
    "print(\"No. of rows: \"+ str(cars.shape[0]))\n",
    "print(\"No. of columns: \"+ str(len(cars.columns)))"
   ]
  },
  {
   "cell_type": "markdown",
   "id": "595b5e30",
   "metadata": {},
   "source": [
    "We have a total of <b> 52,236</b> rows. Let's see what types of data we have under columns and see if we need to any cleaning and transformation. "
   ]
  },
  {
   "cell_type": "markdown",
   "id": "ce5db695",
   "metadata": {},
   "source": [
    "#### Check data types of columns"
   ]
  },
  {
   "cell_type": "code",
   "execution_count": null,
   "id": "7eb4f578",
   "metadata": {
    "scrolled": true
   },
   "outputs": [],
   "source": [
    "pd.set_option(\"display.max_rows\", 10)\n",
    "cars.info()\n"
   ]
  },
  {
   "cell_type": "markdown",
   "id": "e91f64b4",
   "metadata": {},
   "source": [
    "#### Checking for duplicates\n"
   ]
  },
  {
   "cell_type": "code",
   "execution_count": null,
   "id": "3ddf83b7",
   "metadata": {},
   "outputs": [],
   "source": [
    "# Checking for duplicate entries but turns out there is none!\n",
    "cars.duplicated().sum()"
   ]
  },
  {
   "cell_type": "markdown",
   "id": "9055b1e2",
   "metadata": {},
   "source": [
    "#### Checking for NULL values\n",
    "\n",
    "As seen below, there are a lot null values that should be handled carefully. We'll address these issues going forward."
   ]
  },
  {
   "cell_type": "code",
   "execution_count": null,
   "id": "259ba53c",
   "metadata": {
    "scrolled": true
   },
   "outputs": [],
   "source": [
    "pd.set_option(\"display.max_rows\",None)\n",
    "print(\"No. of rows:\",cars.shape[0])\n",
    "print(\"\\n\")\n",
    "print(\"No. of nulls by columns\")\n",
    "cars.isnull().sum()"
   ]
  },
  {
   "cell_type": "markdown",
   "id": "524597aa",
   "metadata": {},
   "source": [
    "#### Check for data entry error and outliers\n",
    "\n",
    "Let's see the data types again."
   ]
  },
  {
   "cell_type": "code",
   "execution_count": null,
   "id": "d83663f8",
   "metadata": {},
   "outputs": [],
   "source": [
    "cars.select_dtypes(include=['object', 'category']).columns"
   ]
  },
  {
   "cell_type": "markdown",
   "id": "0bb5bc2f",
   "metadata": {},
   "source": [
    "Maximum and minimum values for all the numeric values below will be investigated in the future steps with focus on outliers."
   ]
  },
  {
   "cell_type": "code",
   "execution_count": null,
   "id": "943de6fb",
   "metadata": {
    "scrolled": true
   },
   "outputs": [],
   "source": [
    "cars_numeric_fields = ['year','mileage','price','passengers']\n",
    "cars[cars_numeric_fields].describe().apply(lambda s: s.apply('{0:.0f}'.format))"
   ]
  },
  {
   "cell_type": "markdown",
   "id": "beff6fb9",
   "metadata": {},
   "source": [
    "The data was collected from <b>April 2, 2021</b> to <b>May 3, 2021.</b>"
   ]
  },
  {
   "cell_type": "code",
   "execution_count": null,
   "id": "ea8fcf30",
   "metadata": {},
   "outputs": [],
   "source": [
    "print(cars.first_date_seen.min())\n",
    "print(cars.first_date_seen.max())\n",
    "print(cars.last_date_seen.min())\n",
    "print(cars.last_date_seen.max())"
   ]
  },
  {
   "cell_type": "markdown",
   "id": "037f510f",
   "metadata": {},
   "source": [
    "#### Look for the category distribution in categorical columns"
   ]
  },
  {
   "cell_type": "code",
   "execution_count": null,
   "id": "375cefe5",
   "metadata": {
    "scrolled": true
   },
   "outputs": [],
   "source": [
    "pd.set_option(\"display.max_rows\",20)\n",
    "\n",
    "cars[\"make\"].value_counts()"
   ]
  },
  {
   "cell_type": "code",
   "execution_count": null,
   "id": "27c65fb4",
   "metadata": {
    "scrolled": true
   },
   "outputs": [],
   "source": [
    "cars[\"model\"].value_counts()"
   ]
  },
  {
   "cell_type": "code",
   "execution_count": null,
   "id": "4ede19eb",
   "metadata": {
    "scrolled": true
   },
   "outputs": [],
   "source": [
    "cars.trim.value_counts()"
   ]
  },
  {
   "cell_type": "code",
   "execution_count": null,
   "id": "edf99540",
   "metadata": {
    "scrolled": true
   },
   "outputs": [],
   "source": [
    "cars.color.value_counts()"
   ]
  },
  {
   "cell_type": "code",
   "execution_count": null,
   "id": "1761f28b",
   "metadata": {
    "scrolled": true
   },
   "outputs": [],
   "source": [
    "cars.body_type.value_counts()"
   ]
  },
  {
   "cell_type": "code",
   "execution_count": null,
   "id": "0bb85a94",
   "metadata": {
    "scrolled": true
   },
   "outputs": [],
   "source": [
    "cars.drivetrain.value_counts()"
   ]
  },
  {
   "cell_type": "code",
   "execution_count": null,
   "id": "a3098ef2",
   "metadata": {
    "scrolled": true
   },
   "outputs": [],
   "source": [
    "cars.transmission.value_counts()"
   ]
  },
  {
   "cell_type": "code",
   "execution_count": null,
   "id": "0cb917ec",
   "metadata": {
    "scrolled": true
   },
   "outputs": [],
   "source": [
    "cars.fuel_type.value_counts()"
   ]
  },
  {
   "cell_type": "code",
   "execution_count": null,
   "id": "32081549",
   "metadata": {
    "scrolled": true
   },
   "outputs": [],
   "source": [
    "cars.engine.value_counts()"
   ]
  },
  {
   "cell_type": "code",
   "execution_count": null,
   "id": "e9f2b0d6",
   "metadata": {
    "scrolled": true
   },
   "outputs": [],
   "source": [
    "cars.city.value_counts()"
   ]
  },
  {
   "cell_type": "markdown",
   "id": "71f7bb86",
   "metadata": {},
   "source": [
    "#### Initial insights\n",
    "\n",
    "Looking at the initial EDA above, we can say that dataset is not the cleanest in the world. But it is an interesting one to work on for sure!\n",
    "\n",
    "We will clean it by fixing data entry errors, imputing NULL values, clearing outliers, handling categorical values by string manipulations and some feature engineering in further steps."
   ]
  },
  {
   "cell_type": "markdown",
   "id": "0e952838",
   "metadata": {},
   "source": [
    "### Step 5: Data Cleaning and EDA II\n",
    "<br>\n",
    "In this part, we'll clean the raw data and address any data quality issues by following the steps below.\n",
    "<br>\n",
    "\n",
    "* Correct data type issues\n",
    "* Handle categorical variables with string manipulations\n",
    "* Impute null values in categorical values, drop if needed\n",
    "* Fix issues in numerical columns\n",
    "* Look for new variables\n",
    "<br>"
   ]
  },
  {
   "cell_type": "markdown",
   "id": "3e7d6c49",
   "metadata": {},
   "source": [
    "####  Correct data type issues\n",
    "\n",
    "* Let's see the datatypes again and decide what to do!\n"
   ]
  },
  {
   "cell_type": "code",
   "execution_count": null,
   "id": "f9db8945",
   "metadata": {
    "scrolled": true
   },
   "outputs": [],
   "source": [
    "cars.info()"
   ]
  },
  {
   "cell_type": "markdown",
   "id": "f4e0d2bf",
   "metadata": {},
   "source": [
    " * First off the bat, let's get the datefields correct. "
   ]
  },
  {
   "cell_type": "code",
   "execution_count": null,
   "id": "63a9d7ec",
   "metadata": {},
   "outputs": [],
   "source": [
    "cars.first_date_seen=pd.to_datetime(cars.first_date_seen)\n",
    "cars.last_date_seen=pd.to_datetime(cars.last_date_seen)"
   ]
  },
  {
   "cell_type": "markdown",
   "id": "10e565bf",
   "metadata": {},
   "source": [
    "* <b>vin</b> and <b>carfax_url</b> fields have unique values for each and every data point so it's helpful to convert them to boolean. This info will also be relavant in our further analysis."
   ]
  },
  {
   "cell_type": "code",
   "execution_count": null,
   "id": "a5f452da",
   "metadata": {},
   "outputs": [],
   "source": [
    "cars['vin_provided'] = cars.vin.apply(lambda x: 0 if pd.isnull(x) else 1)\n",
    "cars['carfax_provided'] = cars.carfax_url.apply(lambda x: 0 if pd.isnull(x) else 1)\n",
    "cars['is_private'] = cars.is_private.apply(lambda x: 0 if x is False else 1)\n",
    "cars= cars.drop(columns=['vin','carfax_url'])"
   ]
  },
  {
   "cell_type": "markdown",
   "id": "6f614960",
   "metadata": {},
   "source": [
    "* <b>Trim</b> level has a lot of unique text info for each data point but it is not eligible to be converted into a categorical or a numeric column. So, our best bet is to merge it with the description column so that we can get some insights from the merged field."
   ]
  },
  {
   "cell_type": "code",
   "execution_count": null,
   "id": "fd9d5146",
   "metadata": {},
   "outputs": [],
   "source": [
    "cars[\"description\"] = cars[\"trim\"].map(str)+ ' ' + cars[\"description\"].map(str)\n",
    "cars= cars.drop(columns=['trim'])"
   ]
  },
  {
   "cell_type": "markdown",
   "id": "dfe7a23c",
   "metadata": {},
   "source": [
    "#### Handle categorical variables with string manipulations"
   ]
  },
  {
   "cell_type": "markdown",
   "id": "e9fdba34",
   "metadata": {},
   "source": [
    "* Color field is an important one but has a lot of unique values that needs a bit of string manipulation."
   ]
  },
  {
   "cell_type": "code",
   "execution_count": null,
   "id": "b6bc0d7f",
   "metadata": {
    "scrolled": true
   },
   "outputs": [],
   "source": [
    "cars.color.value_counts()"
   ]
  },
  {
   "cell_type": "code",
   "execution_count": null,
   "id": "07452de3",
   "metadata": {},
   "outputs": [],
   "source": [
    "cars.loc[cars['color'].str.contains('white',na=False,flags=re.IGNORECASE), 'color'] = 'White'\n",
    "cars.loc[cars['color'].str.contains('black',na=False,flags=re.IGNORECASE), 'color'] = 'Black'\n",
    "cars.loc[cars['color'].str.contains('red',na=False,flags=re.IGNORECASE), 'color'] = 'Red'\n",
    "cars.loc[cars['color'].str.contains('silver',na=False,flags=re.IGNORECASE), 'color'] = 'Silver'\n",
    "cars.loc[cars['color'].str.contains('gray',na=False,flags=re.IGNORECASE), 'color'] = 'Gray'\n",
    "cars.loc[cars['color'].str.contains('grey',na=False,flags=re.IGNORECASE), 'color'] = 'Gray'\n",
    "cars.loc[cars['color'].str.contains('charcoal',na=False,flags=re.IGNORECASE), 'color'] = 'Gray'\n",
    "cars.loc[cars['color'].str.contains('granite',na=False,flags=re.IGNORECASE), 'color'] = 'Gray'\n",
    "cars.loc[cars['color'].str.contains('blue',na=False,flags=re.IGNORECASE), 'color'] = 'Blue'\n",
    "cars.loc[cars['color'].str.contains('metallic',na=False,flags=re.IGNORECASE), 'color'] = 'Metallic'\n",
    "cars.loc[cars['color'].str.contains('steel',na=False,flags=re.IGNORECASE), 'color'] = 'Metallic'\n",
    "cars.loc[cars['color'].str.contains('green',na=False,flags=re.IGNORECASE), 'color'] = 'Green'\n",
    "cars.loc[cars['color'].str.contains('brown',na=False,flags=re.IGNORECASE), 'color'] = 'Brown'\n",
    "\n",
    "cars[\"color\"] = \\\n",
    "             np.where(cars.groupby([\"color\"])[\"color\"].transform('count') >= 50, \n",
    "                      cars.color, 'Other')\n",
    "cars.loc[cars.color=='Not Specified',\"color\"]=\"Other\"\n",
    "cars.color.value_counts()\n"
   ]
  },
  {
   "cell_type": "markdown",
   "id": "e337d493",
   "metadata": {},
   "source": [
    "* There are a lot of car manufacturers under <b>make</b> field and the size of the unique list makes it harder to analyze. So, I am going to mask them by tagging smaller brands as 'Other'. This is totally a random threshold. I initially set it to <b>brands with # of records > 100</b> but that was filtering out many sport vehicles and I did not want to exclude them. Instead, I remove those under 15."
   ]
  },
  {
   "cell_type": "code",
   "execution_count": null,
   "id": "70119700",
   "metadata": {
    "scrolled": true
   },
   "outputs": [],
   "source": [
    "cars[\"make\"] = \\\n",
    "             np.where(cars.groupby([\"make\"])[\"make\"].transform('count') >= 15, \n",
    "                      cars.make, 'Other')\n",
    "cars.loc[cars['make'].str.contains('mercedes',na=False,flags=re.IGNORECASE), \"make\"] = 'Mercedes'\n",
    "cars.make.value_counts()"
   ]
  },
  {
   "cell_type": "markdown",
   "id": "66fa713a",
   "metadata": {},
   "source": [
    "* Can't do anything about the <b>model</b> field. There are many unique fields for each car brand and it is not feasible to do any sory of transformation on it. I'll just display the unique values here!"
   ]
  },
  {
   "cell_type": "code",
   "execution_count": null,
   "id": "2da26461",
   "metadata": {
    "scrolled": true
   },
   "outputs": [],
   "source": [
    "cars.model.str.title().value_counts()"
   ]
  },
  {
   "cell_type": "markdown",
   "id": "36de2187",
   "metadata": {},
   "source": [
    "* <b>Body_type</b> field might help us drive insights from the dataset but it requires a bit of string manipulations. If I have time, I will write a separate function for the code below because this type of cleaning is required for other fields as well. "
   ]
  },
  {
   "cell_type": "code",
   "execution_count": null,
   "id": "6ec2ce6f",
   "metadata": {},
   "outputs": [],
   "source": [
    "cars.loc[cars['body_type'].str.contains('truck',na=False,flags=re.IGNORECASE), 'body_type'] = 'Truck'\n",
    "cars.loc[cars['body_type'].str.contains('cabriolet',na=False,flags=re.IGNORECASE), 'body_type'] = 'Convertible'\n",
    "cars.loc[cars['body_type'].str.contains('cab',na=False,flags=re.IGNORECASE), 'body_type'] = 'Truck'\n",
    "cars.loc[cars['body_type'].str.contains('wagon',na=False,flags=re.IGNORECASE), 'body_type'] = 'Station Wagon'\n",
    "cars.loc[cars['body_type'].str.contains('super crew',na=False,flags=re.IGNORECASE), 'body_type'] = 'Truck'\n",
    "cars.loc[cars['body_type'].str.contains('cutaway',na=False,flags=re.IGNORECASE), 'body_type'] = 'Truck'\n",
    "cars.loc[cars['body_type'].str.contains('avant',na=False,flags=re.IGNORECASE), 'body_type'] = 'Station Wagon'\n",
    "\n",
    "cars.body_type.value_counts()"
   ]
  },
  {
   "cell_type": "markdown",
   "id": "acce95b8",
   "metadata": {},
   "source": [
    "* <b>Drive_Train</b> columns is also useful one. It also needs a bit of string manipulations. A little domain knowledge might come in handy at this part of the analysis. You can also do online research about what the main drive_train types are and what keywords are used interchangibly for those categories.   "
   ]
  },
  {
   "cell_type": "code",
   "execution_count": null,
   "id": "337b11f7",
   "metadata": {},
   "outputs": [],
   "source": [
    "cars.drivetrain.value_counts()"
   ]
  },
  {
   "cell_type": "code",
   "execution_count": null,
   "id": "cf1f6949",
   "metadata": {},
   "outputs": [],
   "source": [
    "cars.loc[cars.drivetrain == '2WD', 'drivetrain'] = \"FWD\" # this one is just an assumption. It could be RWD as well!\n",
    "cars.loc[cars.drivetrain.isin(['4X4','4x4']), 'drivetrain'] = \"4WD\"\n",
    "cars.drivetrain.value_counts()"
   ]
  },
  {
   "cell_type": "markdown",
   "id": "27bc6760",
   "metadata": {},
   "source": [
    "* <b> Transmission </b> field is also a valueable one. We are applying our good old method to do some transformation here as well. "
   ]
  },
  {
   "cell_type": "code",
   "execution_count": null,
   "id": "bd31f6e6",
   "metadata": {},
   "outputs": [],
   "source": [
    "cars.transmission=cars.transmission.astype('str')\n",
    "\n",
    "cars.loc[cars['transmission'].str.contains('Automatic'), 'transmission'] = 'Automatic'\n",
    "cars.loc[cars['transmission'].str.contains('Manual'), 'transmission'] = 'Manual'\n",
    "cars.loc[cars['transmission'].str.contains('Sequential'), 'transmission'] = 'Manual'\n",
    "cars.loc[cars['transmission'].str.contains('CVT'), 'transmission'] = 'CVT'\n",
    "\n",
    "cars.loc[cars.transmission == 'nan', 'transmission'] = None"
   ]
  },
  {
   "cell_type": "markdown",
   "id": "df795837",
   "metadata": {},
   "source": [
    "* Let's also look at the <b>fuel_type</b> field. "
   ]
  },
  {
   "cell_type": "code",
   "execution_count": null,
   "id": "38f28164",
   "metadata": {},
   "outputs": [],
   "source": [
    "cars['fuel_type'] = cars['fuel_type'].replace(['Premium Unleaded','Gasoline','Gasoline Fuel','Regular Unleaded'],'Gas')\n",
    "cars['fuel_type'] = cars['fuel_type'].replace(['E85- Gasoline(Flex Fuel)'],'Flexible')\n",
    "cars['fuel_type'] = cars['fuel_type'].replace(['Other/Don’t Know'],'Other')\n",
    "cars['fuel_type'] = cars['fuel_type'].replace(['Gasoline Hybrid','Gasoline - Hybrid'],'Hybrid')"
   ]
  },
  {
   "cell_type": "markdown",
   "id": "b929acc9",
   "metadata": {},
   "source": [
    "* For the <b>engine </b> field, we are going to do our transformation. However, due to the way that data points were entered, it is not too feasible to work on every unique record. Instead, we will focus on transforming the field so in a way that we can extract <b># of cylinders</b> as a close proxy in a separate field in the further steps.   "
   ]
  },
  {
   "cell_type": "code",
   "execution_count": null,
   "id": "be313538",
   "metadata": {},
   "outputs": [],
   "source": [
    "cars.loc[cars['engine'].str.contains(\"4 cyl\",na=False,flags=re.IGNORECASE), \"engine\"] = '4 Cylinder'\n",
    "cars.loc[cars['engine'].str.contains(\"4 cyclinder\",na=False,flags=re.IGNORECASE), \"engine\"] = '4 Cylinder'\n",
    "cars.loc[cars['engine'].str.contains(\"4-cyclinder\",na=False,flags=re.IGNORECASE), \"engine\"] = '4 Cylinder'\n",
    "cars.loc[cars['engine'].str.contains(\"4cyl\",na=False,flags=re.IGNORECASE), \"engine\"] = '4 Cylinder'\n",
    "cars.loc[cars['engine'].str.contains(\"6 cyl\",na=False,flags=re.IGNORECASE), \"engine\"] = '6 Cylinder'\n",
    "cars.loc[cars['engine'].str.contains(\"6cyl\",na=False,flags=re.IGNORECASE), \"engine\"] = '6 Cylinder'\n",
    "cars.loc[cars['engine'].str.contains(\"8cyl\",na=False,flags=re.IGNORECASE), \"engine\"] = '8 Cylinder'\n",
    "cars.loc[cars['engine'].str.contains(\"8 cylinder\",na=False,flags=re.IGNORECASE), \"engine\"] = '8 Cylinder'\n",
    "cars.loc[cars['engine'].str.contains(\"v6\",na=False,flags=re.IGNORECASE), \"engine\"] = '6 Cylinder'\n",
    "cars.loc[cars['engine'].str.contains(\"v-6\",na=False,flags=re.IGNORECASE), \"engine\"] = '6 Cylinder'\n",
    "cars.loc[cars['engine'].str.contains(\"3 cylinder\",na=False,flags=re.IGNORECASE), \"engine\"] = '3 Cylinder'\n",
    "cars.loc[cars['engine'].str.contains(\"5 cylinder\",na=False,flags=re.IGNORECASE), \"engine\"] = '5 Cylinder'\n",
    "cars.loc[cars['engine'].str.contains(\"5cyl\",na=False,flags=re.IGNORECASE), \"engine\"] = '5 Cylinder'\n",
    "cars.loc[cars['engine'].str.contains(\"3cyl\",na=False,flags=re.IGNORECASE), \"engine\"] = '3 Cylinder'\n",
    "cars.loc[cars['engine'].str.contains(\"v8\",na=False,flags=re.IGNORECASE), \"engine\"] = '8 Cylinder'\n",
    "cars.loc[cars['engine'].str.contains(\"v-8\",na=False,flags=re.IGNORECASE), \"engine\"] = '8 Cylinder'\n",
    "\n",
    "cars.loc[~cars.engine.isin(['4 Cylinder','6 Cylinder','8 Cylinder','3 Cylinder','5 Cylinder']),'engine'] = None"
   ]
  },
  {
   "cell_type": "markdown",
   "id": "8ccbd8e4",
   "metadata": {},
   "source": [
    "* Nothing interesting in this <b>seller_name</b> field because there are all small dealers except for a few big chains. The largest group in the output below is 'Private' sellers. We already have a separate column for this information. That's why we'll drop this column in the next steps."
   ]
  },
  {
   "cell_type": "code",
   "execution_count": null,
   "id": "45a4004f",
   "metadata": {},
   "outputs": [],
   "source": [
    "cars.loc[cars['seller_name'].str.contains(\"toyota\",na=False,flags=re.IGNORECASE), \"seller2\"] = 'toyota'\n",
    "cars.loc[cars['seller_name'].str.contains(\"honda\",na=False,flags=re.IGNORECASE), \"seller2\"] = 'honda'\n",
    "cars.loc[cars['seller_name'].str.contains(\"dodge\",na=False,flags=re.IGNORECASE), \"seller2\"] = 'dodge'\n",
    "cars.loc[cars['seller_name'].str.contains(\"private\",na=False,flags=re.IGNORECASE), \"seller2\"] = 'private'\n",
    "cars.loc[cars['seller_name'].str.contains(\"ford\",na=False,flags=re.IGNORECASE), \"seller2\"] = 'ford'\n",
    "cars.loc[cars['seller_name'].str.contains(\"hyundai\",na=False,flags=re.IGNORECASE), \"seller2\"] = 'hyundai'\n",
    "\n",
    "\n",
    "cars.seller2.value_counts()"
   ]
  },
  {
   "cell_type": "markdown",
   "id": "5446da84",
   "metadata": {},
   "source": [
    "####  Impute null values, drop them if needed"
   ]
  },
  {
   "cell_type": "markdown",
   "id": "4a45369a",
   "metadata": {},
   "source": [
    "We have a lot of null values. We will use two techniques to get rid of them or impute them from other fields where applicable. Main NULL elimination techniques we use are: \n",
    "* Backward, forward imputation\n",
    "* Taking group mean\n",
    "\n",
    "First, let's see how many we got null values in each field."
   ]
  },
  {
   "cell_type": "code",
   "execution_count": null,
   "id": "f99cdc6a",
   "metadata": {},
   "outputs": [],
   "source": [
    "cars.isnull().sum()"
   ]
  },
  {
   "cell_type": "code",
   "execution_count": null,
   "id": "7732bd3b",
   "metadata": {},
   "outputs": [],
   "source": [
    "cars['body_type']=cars.groupby('model')['body_type'].ffill().bfill()\n",
    "cars.body_type.value_counts()"
   ]
  },
  {
   "cell_type": "code",
   "execution_count": null,
   "id": "f0bd1bf1",
   "metadata": {},
   "outputs": [],
   "source": [
    "cars['drivetrain']=cars.groupby(['make','model'])['drivetrain'].ffill().bfill()\n",
    "\n",
    "cars.drivetrain.value_counts()"
   ]
  },
  {
   "cell_type": "code",
   "execution_count": null,
   "id": "7e0f9b02",
   "metadata": {},
   "outputs": [],
   "source": [
    "cars['transmission']=cars.groupby(['make','model'])['transmission'].ffill().bfill()\n",
    "cars.transmission.value_counts()"
   ]
  },
  {
   "cell_type": "code",
   "execution_count": null,
   "id": "d69a95b6",
   "metadata": {},
   "outputs": [],
   "source": [
    "cars['fuel_type']=cars.groupby(['make','model'])['fuel_type'].ffill().bfill()\n",
    "cars[\"fuel_type\"].value_counts()"
   ]
  },
  {
   "cell_type": "code",
   "execution_count": null,
   "id": "e69b330a",
   "metadata": {},
   "outputs": [],
   "source": [
    "cars['engine']=cars.groupby(['make','model','body_type'])['engine'].ffill().bfill()\n",
    "\n",
    "cars[\"cylinders\"]=cars.engine.str.replace('Cylinder','',regex=True).astype(int)\n",
    "cars= cars.drop(columns=['engine'])\n",
    "cars.cylinders.value_counts()"
   ]
  },
  {
   "cell_type": "code",
   "execution_count": null,
   "id": "a09c88cb",
   "metadata": {},
   "outputs": [],
   "source": [
    "cars[\"city\"] = cars.city.str.title() #Fixing UPPER, LOWER case inconsistencies.\n",
    "\n",
    "cars.loc[cars.city == 'Richmond', 'city'] = 'Richmond Hill' #City was mistakenly recorded as Richmond (BC) instead of \n",
    "## Richmond Hill (ON). I checked the longitude and latitude values to make sure and fix it manually.\n",
    "\n",
    "\n",
    "toronto_gta=['Toronto','North York','Scarborough','Etobicoke','York'\n",
    "            'Burlington','Oakville','Milton','Halton Hills',\n",
    "            'Mississauga','Brampton','Caledon',\n",
    "             'Vaughan','Concord','Unionville','Markham','Newmarket','Richmond Hil','King','Stouffville',\n",
    "             'East Gwillimbury','Whitchurch-Stouffville','Aurora','Georgina',\n",
    "             'Pickering','Ajax','Whitby','Uxbridge','Brock','Scugog','Oshawa','Clarington'\n",
    "            ] \n",
    "## There a lot of unique values so instead we are creating a new, boolean column to check if the car is in Toronto GTA.\n",
    "\n",
    "cars[\"toronto_gta\"]= np.where(cars.city.str.contains('|'.join(toronto_gta)), 1, 0)\n",
    "\n",
    "cars.toronto_gta.value_counts()"
   ]
  },
  {
   "cell_type": "code",
   "execution_count": null,
   "id": "4df4126f",
   "metadata": {},
   "outputs": [],
   "source": [
    "cars=cars.drop(columns=['seller_name','seller2']) # Dropping seller name columns b/c we're not getting any info from them.  "
   ]
  },
  {
   "cell_type": "markdown",
   "id": "f742a1f9",
   "metadata": {},
   "source": [
    "#### Fix issues in numerical columns"
   ]
  },
  {
   "cell_type": "code",
   "execution_count": null,
   "id": "fb153504",
   "metadata": {},
   "outputs": [],
   "source": [
    "cars.describe()"
   ]
  },
  {
   "cell_type": "markdown",
   "id": "8d620bf5",
   "metadata": {},
   "source": [
    "* <b>Year</b>"
   ]
  },
  {
   "cell_type": "code",
   "execution_count": null,
   "id": "42859498",
   "metadata": {},
   "outputs": [],
   "source": [
    "cars[cars.year== 1914] #Checking if 1914 is a data entry or an actual data point."
   ]
  },
  {
   "cell_type": "markdown",
   "id": "21888d70",
   "metadata": {},
   "source": [
    "These two cars look like they are duplicates and they are from Baltimore, a US city out of the scope of this analysis. Let's remove them.\n"
   ]
  },
  {
   "cell_type": "code",
   "execution_count": null,
   "id": "881f0cb2",
   "metadata": {},
   "outputs": [],
   "source": [
    "cars=cars[cars.city.str.title()!='Baltimore']"
   ]
  },
  {
   "cell_type": "markdown",
   "id": "eb651131",
   "metadata": {},
   "source": [
    "Now, it is better that we bring an age field created from the year column."
   ]
  },
  {
   "cell_type": "code",
   "execution_count": null,
   "id": "e9a024ca",
   "metadata": {},
   "outputs": [],
   "source": [
    "cars[\"age\"]=2021-cars[\"year\"]"
   ]
  },
  {
   "cell_type": "code",
   "execution_count": null,
   "id": "7ea150e9",
   "metadata": {},
   "outputs": [],
   "source": [
    "fig,axs=plt.subplots(nrows=2)\n",
    "fig.set_size_inches(20,10)\n",
    "sns.barplot(x='age',y='price',data=cars,ax=axs[0])\n",
    "sns.barplot(cars.groupby('age').count()['price'].index,cars.groupby('age').count()['price'].values,ax=axs[1])\n",
    "axs[0].set_title('Figure 3')\n",
    "axs[1].set_title('Figure 4')\n",
    "axs[1].set_ylabel('Number of cars')\n",
    "plt.tight_layout()\n",
    "plt.show()"
   ]
  },
  {
   "cell_type": "markdown",
   "id": "9d4c1e63",
   "metadata": {},
   "source": [
    "Looking at the graphs above, it makes a lot of sense to me that at this point we should create a new field that would account old, classic cars or in broader terms vehicles that increase in value as they get old unlike the new cars?\n",
    "\n",
    "In most provinces in Canada, the minimum age for a car to get vintage license plate is 30."
   ]
  },
  {
   "cell_type": "code",
   "execution_count": null,
   "id": "9e5b6d71",
   "metadata": {},
   "outputs": [],
   "source": [
    "cars.loc[cars.age > 30, \"vintage\"] = 1\n",
    "cars.loc[cars.vintage != 1, \"vintage\"] = 0  \n",
    "cars.vintage.value_counts()"
   ]
  },
  {
   "cell_type": "markdown",
   "id": "a70fc6bb",
   "metadata": {},
   "source": [
    "* <b>Mileage</b>"
   ]
  },
  {
   "cell_type": "code",
   "execution_count": null,
   "id": "0510a674",
   "metadata": {},
   "outputs": [],
   "source": [
    "pd.set_option('display.float_format', lambda x: '%.0f' % x) #Just a formatting script\n",
    "\n",
    "cars.mileage.describe()"
   ]
  },
  {
   "cell_type": "code",
   "execution_count": null,
   "id": "427d37cd",
   "metadata": {},
   "outputs": [],
   "source": [
    "cars.loc[(cars.mileage==0) & (cars.year < 2019),'mileage']=None # Assuming that old cars can't have 0 km."
   ]
  },
  {
   "cell_type": "code",
   "execution_count": null,
   "id": "934d94a4",
   "metadata": {},
   "outputs": [],
   "source": [
    "pd.set_option('display.float_format', lambda x: '%.0f' % x)\n",
    "cars.mileage.describe()"
   ]
  },
  {
   "cell_type": "code",
   "execution_count": null,
   "id": "46a9ad4a",
   "metadata": {},
   "outputs": [],
   "source": [
    "## Again we are subsetting our data. This is not by intuition. I checked the vehicle with the max mileage(3965000).\n",
    "## Turns out it is a data error with null values in other fields too. That's why I removed it and limited our \n",
    "## analysis to only those below 3,000,000 altough this, too, smells fishy. We'll take care of it in the next steps!\n",
    "\n",
    "cars= cars[cars['mileage'] < 3000000] \n",
    "cars.mileage.describe()\n"
   ]
  },
  {
   "cell_type": "code",
   "execution_count": null,
   "id": "2e7a0004",
   "metadata": {
    "scrolled": true
   },
   "outputs": [],
   "source": [
    "cars[cars['mileage'] > 1000000]\n",
    "\n",
    "#looks like people were putting an extra digit by mistake. We can divide those by 10 and fix this issue.\n"
   ]
  },
  {
   "cell_type": "code",
   "execution_count": null,
   "id": "4ad0c229",
   "metadata": {},
   "outputs": [],
   "source": [
    "cars.loc[(cars.mileage>1000000),'mileage']=cars.mileage/10"
   ]
  },
  {
   "cell_type": "code",
   "execution_count": null,
   "id": "4ec1ee75",
   "metadata": {},
   "outputs": [],
   "source": [
    "cars.mileage.describe()"
   ]
  },
  {
   "cell_type": "code",
   "execution_count": null,
   "id": "eb9801ef",
   "metadata": {},
   "outputs": [],
   "source": [
    "cars.loc[(cars.mileage>500000) & (cars.year > 2015),:] #Let'see what cars we have next in terms of highest odomoter reading.\n"
   ]
  },
  {
   "cell_type": "code",
   "execution_count": null,
   "id": "3772b375",
   "metadata": {},
   "outputs": [],
   "source": [
    "cars.loc[(cars.mileage>500000) & (cars.year > 2015),'mileage']=cars.mileage/10 ## same issue with relatively new cars."
   ]
  },
  {
   "cell_type": "code",
   "execution_count": null,
   "id": "e5edf71b",
   "metadata": {},
   "outputs": [],
   "source": [
    "cars.mileage.describe()"
   ]
  },
  {
   "cell_type": "code",
   "execution_count": null,
   "id": "2e80e82a",
   "metadata": {},
   "outputs": [],
   "source": [
    "cars[cars.mileage==999999] # Who is this Number-9-lover?"
   ]
  },
  {
   "cell_type": "code",
   "execution_count": null,
   "id": "bad29565",
   "metadata": {},
   "outputs": [],
   "source": [
    "cars.loc[(cars.mileage==999999),'mileage']=None ## A data error by the looks of it."
   ]
  },
  {
   "cell_type": "code",
   "execution_count": null,
   "id": "65fffdf1",
   "metadata": {},
   "outputs": [],
   "source": [
    "cars.mileage.describe()\n",
    "# Checked other cars with odomoter readings of upwards of 500,000. Althoug they look a little suspicious too,\n",
    "# I won't remove them b/c they are all trucks. I have always used sedan. Not so much insight into larger vehicles.\n",
    "# Someone with more domain knowledge might be able to handle this better. "
   ]
  },
  {
   "cell_type": "code",
   "execution_count": null,
   "id": "a41fbc73",
   "metadata": {},
   "outputs": [],
   "source": [
    "cars.loc[(cars.mileage>0) & (cars.mileage < 500)& (cars.year < 2015),:] \n",
    "# Next, we are investigating olders vehicles with seemingly low KM on them. "
   ]
  },
  {
   "cell_type": "code",
   "execution_count": null,
   "id": "a1aa55e2",
   "metadata": {},
   "outputs": [],
   "source": [
    "cars.loc[(cars.mileage>0) & (cars.mileage < 500) & (cars.year < 2015),'mileage']=None\n",
    "\n",
    "# We're rendering them all NULL. We'll later impute them with other NULL values by using back and forward filling\n",
    "# based on other fields."
   ]
  },
  {
   "cell_type": "code",
   "execution_count": null,
   "id": "9da889b8",
   "metadata": {},
   "outputs": [],
   "source": [
    "cars['mileage'] = cars.groupby(['make','year'])['mileage'].apply(lambda x: x.fillna(x.mean()))\n",
    "cars.mileage.isnull().sum()"
   ]
  },
  {
   "cell_type": "code",
   "execution_count": null,
   "id": "d78326b4",
   "metadata": {},
   "outputs": [],
   "source": [
    "cars['mileage'] = cars.groupby(['year'])['mileage'].apply(lambda x: x.fillna(x.mean()))\n",
    "## still some null values that's why we are now using avg odometer readings of the vehicles with the same year.\n",
    "# Depreciation should be more or less the same for the cars with same age."
   ]
  },
  {
   "cell_type": "markdown",
   "id": "d8db50f6",
   "metadata": {},
   "source": [
    "* <b>Price</b> "
   ]
  },
  {
   "cell_type": "code",
   "execution_count": null,
   "id": "1a561537",
   "metadata": {},
   "outputs": [],
   "source": [
    "cars.price.describe()"
   ]
  },
  {
   "cell_type": "code",
   "execution_count": null,
   "id": "2420a80b",
   "metadata": {
    "scrolled": true
   },
   "outputs": [],
   "source": [
    "cars[cars.price>500000] # Surprisingly,nothing looks fishy! All look sport cars and we'll keep them."
   ]
  },
  {
   "cell_type": "code",
   "execution_count": null,
   "id": "799f8734",
   "metadata": {
    "scrolled": true
   },
   "outputs": [],
   "source": [
    "cars[cars.price<500] #Checking to see if there is any data errors on cars cheaper than 500$."
   ]
  },
  {
   "cell_type": "code",
   "execution_count": null,
   "id": "5a6200db",
   "metadata": {
    "scrolled": true
   },
   "outputs": [],
   "source": [
    "cars.loc[(cars.price<500) & (cars.description.str.contains('parts')),:]\n",
    "\n",
    "# We're assuming that cheap cars might be up for sale for their parts. If this is the case, we are not interested in them.\n"
   ]
  },
  {
   "cell_type": "code",
   "execution_count": null,
   "id": "f34fb1d8",
   "metadata": {},
   "outputs": [],
   "source": [
    "indexes = cars.loc[(cars.price<500) & (cars.description.str.contains('parts')),:].index\n",
    "\n",
    "cars.drop(indexes,inplace=True) # Turns out some of them has 'parts' keyword in the ad description so we can remove them."
   ]
  },
  {
   "cell_type": "code",
   "execution_count": null,
   "id": "9094e31f",
   "metadata": {},
   "outputs": [],
   "source": [
    "cars[cars.price.isnull()]"
   ]
  },
  {
   "cell_type": "code",
   "execution_count": null,
   "id": "02aac130",
   "metadata": {},
   "outputs": [],
   "source": [
    "cars['price'] = cars.groupby(['make','model','year'])['price'].apply(lambda x: x.fillna(x.mean()))\n",
    "\n",
    "# Remaining NULL values are filled by group average based on make, model and year."
   ]
  },
  {
   "cell_type": "markdown",
   "id": "898a7cc5",
   "metadata": {},
   "source": [
    "* <b> Passengers </b>"
   ]
  },
  {
   "cell_type": "code",
   "execution_count": null,
   "id": "cecbbb0d",
   "metadata": {},
   "outputs": [],
   "source": [
    "cars.passengers.describe()"
   ]
  },
  {
   "cell_type": "code",
   "execution_count": null,
   "id": "d7f81f5e",
   "metadata": {},
   "outputs": [],
   "source": [
    "## turns out this car (Subaru Crosstek) has actually a capacity of 5 passengers. Manually fixing it.\n",
    "\n",
    "cars.loc[cars.passengers == 17, 'passengers'] = 5  "
   ]
  },
  {
   "cell_type": "code",
   "execution_count": null,
   "id": "5ded2569",
   "metadata": {},
   "outputs": [],
   "source": [
    "## turns out 1744 vehicles has mistakenly 0 passenger capacity. This gotta be a mistake. We'll fix that by first\n",
    "## converting them into Null then filling null values with most frequent value in respective groups.\n",
    "\n",
    "cars.loc[cars.passengers == 0, 'passengers'] = None\n",
    "\n",
    "cars['passengers']=cars.groupby(['make','model','body_type'])['passengers'].ffill().bfill()\n",
    "cars.passengers.value_counts()"
   ]
  },
  {
   "cell_type": "code",
   "execution_count": null,
   "id": "1d9b1d77",
   "metadata": {},
   "outputs": [],
   "source": [
    "cars=cars.drop(columns=['city','province']) # we drop the city column. \n",
    "## We also drop province because it is all Ontario except for around 100 data points from BC (Creston)\n",
    "## and Newfoundland (Clarenville and Grandfalls-Windsor)."
   ]
  },
  {
   "cell_type": "markdown",
   "id": "8b0a540a",
   "metadata": {},
   "source": [
    "### Step 6: Data Analysis"
   ]
  },
  {
   "cell_type": "code",
   "execution_count": null,
   "id": "818d9455",
   "metadata": {},
   "outputs": [],
   "source": [
    "def classify_price(x):    \n",
    "    if x<10000:\n",
    "        return \"<10000\"\n",
    "    \n",
    "    if x >= 10000 and x <= 30000:\n",
    "        return \"10000-30000\"\n",
    "    \n",
    "    if x >= 30000 and x <= 50000:\n",
    "        return \"30000-50000\"    \n",
    "    \n",
    "    if x>50000:\n",
    "        return \">50000\"\n",
    "    return \"NA\""
   ]
  },
  {
   "cell_type": "code",
   "execution_count": null,
   "id": "5c209fc9",
   "metadata": {},
   "outputs": [],
   "source": [
    "cars['classifications'] = cars.price.apply(classify_price)"
   ]
  },
  {
   "cell_type": "code",
   "execution_count": null,
   "id": "9992b66c",
   "metadata": {},
   "outputs": [],
   "source": [
    "# Effect of make to price\n",
    "piv = pd.pivot_table(cars,index=['make'],columns='classifications',values=[],aggfunc=len)\n",
    "piv.fillna(0, inplace=True)\n",
    "piv = piv[['<10000','10000-30000','30000-50000','>50000']]\n",
    "piv = piv.div(piv.sum(axis=1), axis = 0) * 100"
   ]
  },
  {
   "cell_type": "code",
   "execution_count": null,
   "id": "ae74b418",
   "metadata": {},
   "outputs": [],
   "source": [
    "plt.subplots(figsize=(10,15))\n",
    "sns.heatmap(piv,cmap=\"Blues\",annot=True,fmt=\".2f\");\n",
    "plt.xlabel(\"Price Bracket\")\n",
    "plt.ylabel(\"Make\");\n",
    "plt.title(\"Percent of Cars in Each Price Bracket Based on Make\");\n",
    "plt.tick_params(right=True, top=True, labeltop=True,rotation=0);"
   ]
  },
  {
   "cell_type": "markdown",
   "id": "1f423100",
   "metadata": {},
   "source": [
    "<b>Insight 1:</b> Premium luxury vehicles such as Aston Martin, Bentley, Rolls-Royce, Ferrari, Tesla, Porsche, Maserati and Lamborghini have overwhelming majority of their cars listed upwards of 50,000\\\\$. Brands such as Toyota, Honda, Hyundai, Kia and Nissan have their cars mostly listed under the second tier, 10,000\\\\$ - 30,000\\\\$. The brands like Saturn, Saab, Suzuki, Smart and Fiat have almost all of their listings under 10,000\\\\$. This could be due to the lower perception of brand quality in the used market in Canada or perhaps in Ontario in particular."
   ]
  },
  {
   "cell_type": "code",
   "execution_count": null,
   "id": "ba74d572",
   "metadata": {},
   "outputs": [],
   "source": [
    "plt.subplots(figsize=(15,5))\n",
    "g = sns.regplot(x=\"age\",y=\"price\",data=cars)\n",
    "regline = g.get_lines()[0]\n",
    "regline.set_color('red')\n",
    "plt.ticklabel_format(style='plain', axis='y')\n",
    "plt.title(\"Relationship Between Model Age and Price\");"
   ]
  },
  {
   "cell_type": "markdown",
   "id": "be16d8a5",
   "metadata": {},
   "source": [
    "<b>Insight 2:</b> As expected, price goes down as the vehicle ages, sort of insight that is also backed up by the downward sloping curve on the graph above.\n",
    "\n",
    "<b>Insight 3:</b> Our dataset contains relatively older cars that skew the data a little on the right edge above the red trendline. This should be due to vintage cars for which we already created a new variable earlier. But despite this the Insight 2 still holds. "
   ]
  },
  {
   "cell_type": "code",
   "execution_count": null,
   "id": "43cc27ba",
   "metadata": {},
   "outputs": [],
   "source": [
    "plt.subplots(figsize=(15,5))\n",
    "g = sns.regplot(x=\"mileage\",y=np.log(cars.price),data=cars) #taking log of the price\n",
    "regline = g.get_lines()[0]\n",
    "regline.set_color('red')\n",
    "plt.title(\"Relationship Between Odometer Distance and Price\");"
   ]
  },
  {
   "cell_type": "code",
   "execution_count": null,
   "id": "1a5274f8",
   "metadata": {},
   "outputs": [],
   "source": [
    "cars.head()"
   ]
  },
  {
   "cell_type": "markdown",
   "id": "c20383e6",
   "metadata": {},
   "source": [
    "<b>Insight 4:</b> The trend is obvious that prices go down as car accumulates more mileage on their odometers."
   ]
  },
  {
   "cell_type": "code",
   "execution_count": null,
   "id": "625c611a",
   "metadata": {},
   "outputs": [],
   "source": [
    "plt.subplots(figsize=(15,5))\n",
    "sns.boxplot(x=cars.is_private, y=np.log(cars.price));\n",
    "plt.ylabel(\"Log-Price\")\n",
    "plt.show() "
   ]
  },
  {
   "cell_type": "markdown",
   "id": "cee4070a",
   "metadata": {},
   "source": [
    "<b>Insight 5:</b>\n",
    "    \n",
    "* Private sellers tend to have lower prices."
   ]
  },
  {
   "cell_type": "code",
   "execution_count": null,
   "id": "0c266f74",
   "metadata": {},
   "outputs": [],
   "source": [
    "plt.subplots(figsize=(15,5))\n",
    "sns.boxplot(x=cars.color, y=np.log(cars.price));\n",
    "plt.ylabel(\"Log-Price\")\n",
    "plt.show() "
   ]
  },
  {
   "cell_type": "markdown",
   "id": "3c3d91d1",
   "metadata": {},
   "source": [
    "<b>Insight 6:</b>\n",
    "    \n",
    "* Selling price does not vary a lot across different body colors. While Yellow, Black and White cars look slightly more expensive, gold-color vehicles sells cheaper than the rest. But again, it is not too much of a difference."
   ]
  },
  {
   "cell_type": "code",
   "execution_count": null,
   "id": "13812aa0",
   "metadata": {},
   "outputs": [],
   "source": [
    "plt.subplots(figsize=(15,5))\n",
    "sns.boxplot(x=cars.body_type, y=np.log(cars.price));\n",
    "plt.ylabel(\"Log-Price\")\n",
    "plt.show() "
   ]
  },
  {
   "cell_type": "markdown",
   "id": "e5769760",
   "metadata": {},
   "source": [
    "\n",
    "<b>Insight 7:</b>\n",
    "* Body type is an important differentiator. Roadsters are by far the most expensive cars according to the data. This makes sense because sport cars mostly target more wealthy consumers. Trucks follows roadsters on a descending order. Hatchbacks are listed as most affordable cars while sedans follow hatchback in affordability. The graph also displays that two other sporty-looking body types, namely convertibles and coupes, have larger variance, meaning that their prices could go up and down by a lot."
   ]
  },
  {
   "cell_type": "code",
   "execution_count": null,
   "id": "f6cf7789",
   "metadata": {},
   "outputs": [],
   "source": [
    "plt.subplots(figsize=(15,5))\n",
    "sns.boxplot(x=cars.drivetrain, y=np.log(cars.price));\n",
    "plt.ylabel(\"Log-Price\")\n",
    "plt.show() "
   ]
  },
  {
   "cell_type": "markdown",
   "id": "035c08a0",
   "metadata": {},
   "source": [
    "\n",
    "<b>Insight 8:</b>\n",
    "* Car prices look similar across different drive train types. That being said, 4WD cars have higher prices than average whereas FWD vehicles stand out as the most affordable type."
   ]
  },
  {
   "cell_type": "code",
   "execution_count": null,
   "id": "be964704",
   "metadata": {},
   "outputs": [],
   "source": [
    "plt.subplots(figsize=(15,5))\n",
    "sns.boxplot(x=cars.transmission, y=np.log(cars.price));\n",
    "plt.ylabel(\"Log-Price\")\n",
    "plt.show() "
   ]
  },
  {
   "cell_type": "markdown",
   "id": "6dcc5c02",
   "metadata": {},
   "source": [
    "\n",
    "<b>Insight 9:</b>\n",
    "* Transmission types do not make any difference when it comes to price but Manual vehicles sell cheaper than automatic and CVTs in general."
   ]
  },
  {
   "cell_type": "code",
   "execution_count": null,
   "id": "e55213ad",
   "metadata": {},
   "outputs": [],
   "source": [
    "plt.subplots(figsize=(15,5))\n",
    "sns.boxplot(x=cars.fuel_type, y=np.log(cars.price));\n",
    "plt.ylabel(\"Log-Price\")\n",
    "plt.show() "
   ]
  },
  {
   "cell_type": "markdown",
   "id": "5b7f021b",
   "metadata": {},
   "source": [
    "\n",
    "<b>Insight 10:</b>\n",
    "* As per fuel type, electric cars are more expensive as expected because they are made with high technology. Meanwhile, hybrid and diesel vehicles are above average too. Technology aspect applies for hybrid cars too. About diesel vehicles, I assume it is due to large engine vehicles like pickups using diesel fuels."
   ]
  },
  {
   "cell_type": "code",
   "execution_count": null,
   "id": "f1b4680b",
   "metadata": {},
   "outputs": [],
   "source": [
    "plt.subplots(figsize=(15,5))\n",
    "sns.boxplot(x=cars.passengers, y=np.log(cars.price));\n",
    "plt.ylabel(\"Log-Price\")\n",
    "plt.show() "
   ]
  },
  {
   "cell_type": "markdown",
   "id": "916a5fe9",
   "metadata": {},
   "source": [
    "\n",
    "<b>Insight 11:</b>\n",
    "* In terms of passenger capacity, the most popular option is 5. It is the category that is closer to the average the most too. Moving further from 5 to both sides increase price. This should be due to the fact that cars with lower passenger capacity tend to be sport cars and those with higher passenger seats are larger cars like minivans which require a bigger engine with high cost. "
   ]
  },
  {
   "cell_type": "code",
   "execution_count": null,
   "id": "e1782c94",
   "metadata": {},
   "outputs": [],
   "source": [
    "plt.subplots(figsize=(15,5))\n",
    "sns.boxplot(x=cars.vin_provided, y=np.log(cars.price));\n",
    "plt.ylabel(\"Log-Price\")\n",
    "plt.show() "
   ]
  },
  {
   "cell_type": "markdown",
   "id": "a7c79b3c",
   "metadata": {},
   "source": [
    "\n",
    "<b>Insight 12:</b>\n",
    "* An interesting result: if a seller provides VIN number in the listing, its selling price tend to be higher than the others most of the time. Looks like trust is not something you get for free!"
   ]
  },
  {
   "cell_type": "code",
   "execution_count": null,
   "id": "a4643429",
   "metadata": {},
   "outputs": [],
   "source": [
    "plt.subplots(figsize=(15,5))\n",
    "sns.boxplot(x=cars.carfax_provided, y=np.log(cars.price));\n",
    "plt.ylabel(\"Log-Price\")\n",
    "plt.show() "
   ]
  },
  {
   "cell_type": "markdown",
   "id": "1afd0920",
   "metadata": {},
   "source": [
    "<b>Insight 13:</b>\n",
    "* Same thing for CARFAX report. If it is available, selling prices is mostly higher."
   ]
  },
  {
   "cell_type": "code",
   "execution_count": null,
   "id": "a2f8b766",
   "metadata": {},
   "outputs": [],
   "source": [
    "plt.subplots(figsize=(15,5))\n",
    "sns.boxplot(x=cars.cylinders, y=np.log(cars.price));\n",
    "plt.ylabel(\"Log-Price\")\n",
    "plt.show() "
   ]
  },
  {
   "cell_type": "markdown",
   "id": "dba6d806",
   "metadata": {},
   "source": [
    "\n",
    "\n",
    "<b>Insight 14:</b>\n",
    "* More cylinders is associated with higher prices. Should be a result of bigger cars with large engine or/and that of sport cars.  "
   ]
  },
  {
   "cell_type": "code",
   "execution_count": null,
   "id": "482b550a",
   "metadata": {},
   "outputs": [],
   "source": [
    "plt.subplots(figsize=(15,5))\n",
    "sns.boxplot(x=cars.vintage, y=np.log(cars.price));\n",
    "plt.ylabel(\"Log-Price\")\n",
    "plt.show() "
   ]
  },
  {
   "cell_type": "markdown",
   "id": "8e75aca9",
   "metadata": {},
   "source": [
    "\n",
    "\n",
    "<b>Insight 15:</b>\n",
    "* This is surprising because one can expect vintage cars to be most expensive. However, it is also noteworthy that sport vehicles that skew the data are mostly new cars so two fields should be cancelling out each other's effect. It would be interesting to see the impact a combination of both fields might have. We'll explore that in the modelling phase!   "
   ]
  },
  {
   "cell_type": "code",
   "execution_count": null,
   "id": "b95a0e8e",
   "metadata": {},
   "outputs": [],
   "source": [
    "text_list = list(cars.description.astype('str'))\n",
    "text = '-'.join(text_list)\n",
    "my_stop_words =[\"car\",\"power\",\"vehicle\",\"available\",\"Please\",\"drive\",\"price\",\"great\",\"call\",\"vehicles\",\n",
    "                \"Control\",\"customer\"]+list(STOPWORDS)\n",
    "wordcloud = WordCloud(stopwords=my_stop_words, collocations=False).generate(text)"
   ]
  },
  {
   "cell_type": "code",
   "execution_count": null,
   "id": "ce935472",
   "metadata": {},
   "outputs": [],
   "source": [
    "plt.figure(figsize=(20,12))\n",
    "plt.imshow(wordcloud, interpolation='bilinear')\n",
    "plt.axis(\"off\")\n",
    "plt.show()"
   ]
  },
  {
   "cell_type": "markdown",
   "id": "a0fe2d81",
   "metadata": {},
   "source": [
    "<b>Insight 16:</b>\n",
    "\n",
    "As you might recall already, I merged trim and description fields earlier because they both contain long strings that is not feasible for numeric or categorical transformation. However, the strings stored in both fields are still valuable in the sense that we can capture most common keywords and try to understand what sort of information sellers put on most listings. This would help us know more about popular features on used vehicles and also help us perform a better data collection in further projects.\n",
    "\n",
    "By applying a WordCloud, a popular tool for sentiment analysis, I have been able to see:\n",
    "* Cars with heated seats seem to be on demand. The word cloud also captured the words 'Rear' and 'Front'. Those could be in the sense of wheels as well as seats.\n",
    "* The words 'Certified', 'Pre', 'Owned' could be associated with Certified Pre Owned Vehicles. It should be an on-demand feature on used cars.\n",
    "* Warranty on used cars is also popular. One might say that most used cars come with a warranty. It could be useful to have a boolean field that checks whether a car has warranty or not. \n",
    "* CARFAX is important and it is good that we already have a separate field for that. The word 'Safety' is also popular in a similar vein.\n",
    "* Credit is another common tag that the Wordcloud has captured. Should be purely due to the fact that 3/4 of the vehicles on our dataset is listed by dealers.\n",
    "* Camera, bluetooth, sunroof, leather(seats perhaps) are other features that most cars seem to have."
   ]
  },
  {
   "cell_type": "code",
   "execution_count": null,
   "id": "ae7f9a99",
   "metadata": {},
   "outputs": [],
   "source": [
    "searchfor = ['one owner', 'single owner','one-owner', '1 owner','sole owner','only owner'] #potential tags\n",
    "\n",
    "cars.loc[cars['description'].str.contains('|'.join(searchfor),na=False,flags=re.IGNORECASE), \"one_owner\"] = 1\n",
    "cars.loc[cars.one_owner != 1, 'one_owner'] = 0  \n",
    "cars.one_owner.value_counts()"
   ]
  },
  {
   "cell_type": "code",
   "execution_count": null,
   "id": "3f1bb810",
   "metadata": {},
   "outputs": [],
   "source": [
    "plt.subplots(figsize=(15,5))\n",
    "sns.boxplot(x=cars.one_owner, y=np.log(cars.price));\n",
    "plt.ylabel(\"Log-Price\")\n",
    "plt.show() "
   ]
  },
  {
   "cell_type": "markdown",
   "id": "ea4bbb1e",
   "metadata": {},
   "source": [
    "<b>Insight 17:</b>\n",
    "\n",
    "From my own experience being in the market for a used car recently, I think an important factor people seem to justifiably associate prices is the number of previous users. I figured through my personal experience that the fewer previous owners a car has the more expensive its asking price will be. The principle applies to the accident status: If a car is accident free, it could be higher in price.\n",
    "\n",
    "* A <b>No. of owners</b> column would come in handy. In fact, the code above checks whether the improved description field has such info. Understandably, I had to limit my scope to look for certain vehicles, perhaps those with single owners.\n",
    "* And voila! Cars with one owner tags in the description are associated with higher prices."
   ]
  },
  {
   "cell_type": "markdown",
   "id": "22b80af0",
   "metadata": {},
   "source": [
    "#### Adding new features based on the word cloud\n",
    "* <b>Heated Seats</b>"
   ]
  },
  {
   "cell_type": "code",
   "execution_count": null,
   "id": "4d37fd4c",
   "metadata": {},
   "outputs": [],
   "source": [
    "cars.loc[cars['description'].str.contains('heated seats',na=False,flags=re.IGNORECASE), \"heated_seats\"] = 1\n",
    "cars.loc[cars.heated_seats != 1, 'heated_seats'] = 0  \n",
    "cars.heated_seats.value_counts()"
   ]
  },
  {
   "cell_type": "code",
   "execution_count": null,
   "id": "e9e52ce2",
   "metadata": {},
   "outputs": [],
   "source": [
    "plt.subplots(figsize=(15,5))\n",
    "sns.boxplot(x=cars.heated_seats, y=np.log(cars.price));\n",
    "plt.ylabel(\"Log-Price\")\n",
    "plt.show() "
   ]
  },
  {
   "cell_type": "markdown",
   "id": "1e92bd8b",
   "metadata": {},
   "source": [
    "* <b>Sunroof</b>"
   ]
  },
  {
   "cell_type": "code",
   "execution_count": null,
   "id": "6e200504",
   "metadata": {},
   "outputs": [],
   "source": [
    "cars.loc[cars['description'].str.contains('sunroof',na=False,flags=re.IGNORECASE), \"sunroof\"] = 1\n",
    "cars.loc[cars.sunroof != 1, 'sunroof'] = 0  \n",
    "cars.sunroof.value_counts()"
   ]
  },
  {
   "cell_type": "code",
   "execution_count": null,
   "id": "1e54db42",
   "metadata": {},
   "outputs": [],
   "source": [
    "plt.subplots(figsize=(15,5))\n",
    "sns.boxplot(x=cars.sunroof, y=np.log(cars.price));\n",
    "plt.ylabel(\"Log-Price\")\n",
    "plt.show() "
   ]
  },
  {
   "cell_type": "markdown",
   "id": "4a60be89",
   "metadata": {},
   "source": [
    "* <b>Camera</b>"
   ]
  },
  {
   "cell_type": "code",
   "execution_count": null,
   "id": "a1d7c796",
   "metadata": {},
   "outputs": [],
   "source": [
    "cars.loc[cars['description'].str.contains('camera',na=False,flags=re.IGNORECASE), \"camera\"] = 1\n",
    "cars.loc[cars.camera != 1, 'camera'] = 0  \n",
    "cars.camera.value_counts()"
   ]
  },
  {
   "cell_type": "code",
   "execution_count": null,
   "id": "37a675b9",
   "metadata": {},
   "outputs": [],
   "source": [
    "plt.subplots(figsize=(15,5))\n",
    "sns.boxplot(x=cars.camera, y=np.log(cars.price));\n",
    "plt.ylabel(\"Log-Price\")\n",
    "plt.show() "
   ]
  },
  {
   "cell_type": "markdown",
   "id": "6dc6f9e6",
   "metadata": {},
   "source": [
    "* One thing I worried a lot about when looking for a used vehicle was whether it had any accients. Let's create a new field called <b>accident_free</b>."
   ]
  },
  {
   "cell_type": "code",
   "execution_count": null,
   "id": "11231249",
   "metadata": {},
   "outputs": [],
   "source": [
    "searchfor = ['no accident', 'accident free','no-accident', 'accident-free','no damage','no-damage','no dent','no-dent'] \n",
    "# I included no damage tags as well because they are essentially measuring the similar thing.\n",
    "\n",
    "cars.loc[cars['description'].str.contains('|'.join(searchfor),na=False,flags=re.IGNORECASE), \"accident_free\"] = 1\n",
    "cars.loc[cars.accident_free != 1, 'accident_free'] = 0  \n",
    "cars.accident_free.value_counts()"
   ]
  },
  {
   "cell_type": "code",
   "execution_count": null,
   "id": "4d298ba3",
   "metadata": {},
   "outputs": [],
   "source": [
    "plt.subplots(figsize=(15,5))\n",
    "sns.boxplot(x=cars.accident_free, y=np.log(cars.price));\n",
    "plt.ylabel(\"Log-Price\")\n",
    "plt.show() "
   ]
  },
  {
   "cell_type": "markdown",
   "id": "cd5e60df",
   "metadata": {},
   "source": [
    "* <b> Rebuilt status</b>"
   ]
  },
  {
   "cell_type": "code",
   "execution_count": null,
   "id": "c093d94f",
   "metadata": {},
   "outputs": [],
   "source": [
    "cars.loc[cars['description'].str.contains('rebuilt',na=False,flags=re.IGNORECASE), \"rebuilt\"] = 1\n",
    "cars.loc[cars.rebuilt != 1, 'rebuilt'] = 0  \n",
    "cars.rebuilt.value_counts()"
   ]
  },
  {
   "cell_type": "code",
   "execution_count": null,
   "id": "c0af240a",
   "metadata": {},
   "outputs": [],
   "source": [
    "plt.subplots(figsize=(15,5))\n",
    "sns.boxplot(x=cars.rebuilt, y=np.log(cars.price));\n",
    "plt.ylabel(\"Log-Price\")\n",
    "plt.show() "
   ]
  },
  {
   "cell_type": "code",
   "execution_count": null,
   "id": "02e796a2",
   "metadata": {},
   "outputs": [],
   "source": [
    "cars.loc[cars['description'].str.contains('clean title',na=False,flags=re.IGNORECASE), \"clean_title\"] = 1\n",
    "cars.loc[cars.clean_title != 1, 'clean_title'] = 0  \n",
    "cars.clean_title.value_counts()"
   ]
  },
  {
   "cell_type": "code",
   "execution_count": null,
   "id": "3ac7d535",
   "metadata": {},
   "outputs": [],
   "source": [
    "plt.subplots(figsize=(15,5))\n",
    "sns.boxplot(x=cars.clean_title, y=np.log(cars.price));\n",
    "plt.ylabel(\"Log-Price\")\n",
    "plt.show() "
   ]
  },
  {
   "cell_type": "markdown",
   "id": "d76991b4",
   "metadata": {},
   "source": [
    "<b> Insight 18:</b> This is by far the most interesting result from our new variables. The result should have been the other way around. I assume the way we created this column is to blame! We have been able to get title info from only 500 rows (1%) and tagged the rest as NOT HAVING CLEAN TITLE."
   ]
  },
  {
   "cell_type": "code",
   "execution_count": null,
   "id": "39cc3086",
   "metadata": {},
   "outputs": [],
   "source": [
    "cars.loc[cars['description'].str.contains('leather seat',na=False,flags=re.IGNORECASE), \"leather_seats\"] = 1\n",
    "cars.loc[cars.leather_seats != 1, 'leather_seats'] = 0  \n",
    "cars.leather_seats.value_counts()"
   ]
  },
  {
   "cell_type": "code",
   "execution_count": null,
   "id": "63443e22",
   "metadata": {},
   "outputs": [],
   "source": [
    "plt.subplots(figsize=(15,5))\n",
    "sns.boxplot(x=cars.leather_seats, y=np.log(cars.price));\n",
    "plt.ylabel(\"Log-Price\")\n",
    "plt.show() "
   ]
  },
  {
   "cell_type": "code",
   "execution_count": null,
   "id": "41c80ad9",
   "metadata": {},
   "outputs": [],
   "source": [
    "cars.loc[cars['description'].str.contains('bluetooth',na=False,flags=re.IGNORECASE), \"bluetooth\"] = 1\n",
    "cars.loc[cars.bluetooth != 1, 'bluetooth'] = 0  \n",
    "cars.bluetooth.value_counts()"
   ]
  },
  {
   "cell_type": "code",
   "execution_count": null,
   "id": "19bcb908",
   "metadata": {},
   "outputs": [],
   "source": [
    "plt.subplots(figsize=(15,5))\n",
    "sns.boxplot(x=cars.bluetooth, y=np.log(cars.price));\n",
    "plt.ylabel(\"Log-Price\")\n",
    "plt.show() "
   ]
  },
  {
   "cell_type": "code",
   "execution_count": null,
   "id": "7b9d3c28",
   "metadata": {},
   "outputs": [],
   "source": [
    "# Sketching our correlating matrix to see if there are any further insights we can drive.\n",
    "\n",
    "cars_corr = cars.corr()\n",
    "\n",
    "# figure size\n",
    "plt.figure(figsize=(16,8))\n",
    "\n",
    "# heatmap\n",
    "sns.heatmap(cars_corr, cmap=\"YlGnBu\", annot=True)\n",
    "plt.show()"
   ]
  },
  {
   "cell_type": "markdown",
   "id": "386fd38c",
   "metadata": {},
   "source": [
    "<b>Insight 19:</b> As displayed in the correlation matrix above, <b>price</b> looks correlated with <b>age</b>, <b>mileage</b> and <b>cylinder</b> variables. Correlation is often confused with causation. The graph above only tells us that there are positive or negative relationship between price and the other highlighted variables. And that's it. It does not imply that cylinders are what make vehicles expensive. There could be a 3rd variable, total engine volume for instance (we removed this variable from our dataset earlier because it had data quality issues.) that is causing prices to get higher and since cylinders are engine size are related, they have a correlation. That being said, causation is often hard to detect and correlation is good enough for basic relationship analysis until we can locate causation!\n",
    "\n",
    "Another important point to make here is that this matrix might show weak correlation between our target variable, price in this case, and other variables. However, we should not rule out the possibility that some variables have collective relationship with the targer variable. That is, a combination of several different fields might be relevant to exlain price differences and such a quest warrants further and deeper modelling."
   ]
  },
  {
   "cell_type": "markdown",
   "id": "f6d51579",
   "metadata": {},
   "source": [
    "### Step 7: Preprocessing for Modelling\n",
    "\n",
    "We will now process the data and do some feature engineering for our machine learning models."
   ]
  },
  {
   "cell_type": "code",
   "execution_count": null,
   "id": "e8ddce18",
   "metadata": {},
   "outputs": [],
   "source": [
    "cars.head()"
   ]
  },
  {
   "cell_type": "markdown",
   "id": "92272a18",
   "metadata": {},
   "source": [
    "* Removing unnecessary columns from my dataset"
   ]
  },
  {
   "cell_type": "code",
   "execution_count": null,
   "id": "2c73b18d",
   "metadata": {},
   "outputs": [],
   "source": [
    "cars_new= cars.drop(columns=['id','first_date_seen','last_date_seen','year','model',\n",
    "                             'description','longitude','latitude','classifications'])"
   ]
  },
  {
   "cell_type": "code",
   "execution_count": null,
   "id": "9a95e578",
   "metadata": {},
   "outputs": [],
   "source": [
    "cars_new.head()"
   ]
  },
  {
   "cell_type": "markdown",
   "id": "f06ad576",
   "metadata": {},
   "source": [
    "#### Let's remove some outliers"
   ]
  },
  {
   "cell_type": "markdown",
   "id": "e0a91088",
   "metadata": {},
   "source": [
    "* In order to have the make field a feasible predictor, I remove vehicles under the 'Other' category that I earlier created for brands which have less than 15 listings under them. They make up around 78 listings in total."
   ]
  },
  {
   "cell_type": "code",
   "execution_count": null,
   "id": "424ccf34",
   "metadata": {},
   "outputs": [],
   "source": [
    "cars_new=cars_new[cars_new.make!='Other']"
   ]
  },
  {
   "cell_type": "code",
   "execution_count": null,
   "id": "660c802d",
   "metadata": {},
   "outputs": [],
   "source": [
    "cars_new.describe()"
   ]
  },
  {
   "cell_type": "markdown",
   "id": "c50faa88",
   "metadata": {},
   "source": [
    "* Let's see if we have potential outliers for our target variables by the Interquartile range method.\n",
    "\n",
    " <b>Price</b> "
   ]
  },
  {
   "cell_type": "code",
   "execution_count": null,
   "id": "97f170ff",
   "metadata": {},
   "outputs": [],
   "source": [
    "sns.boxplot(np.log(cars_new.price)) # A lot of outliers actually. Let's remove them for our model."
   ]
  },
  {
   "cell_type": "code",
   "execution_count": null,
   "id": "59632b84",
   "metadata": {},
   "outputs": [],
   "source": [
    "#Define a function to determine outlier boundaries\n",
    "def outlier_limits(col):\n",
    "  Q3, Q1 = np.nanpercentile(col, [75, 25])\n",
    "  IQR = Q3 - Q1\n",
    "  UL = Q3 + 1.5*IQR   #upper limit\n",
    "  LL = Q1 - 1.5*IQR   #lower limit\n",
    "  return UL, LL"
   ]
  },
  {
   "cell_type": "code",
   "execution_count": null,
   "id": "0769c1b9",
   "metadata": {},
   "outputs": [],
   "source": [
    "#Apply the function to your data\n",
    "outlier_limits(cars_new.price)\n",
    "UL, LL = outlier_limits(cars_new[\"price\"])"
   ]
  },
  {
   "cell_type": "code",
   "execution_count": null,
   "id": "4cc0dda0",
   "metadata": {},
   "outputs": [],
   "source": [
    "cars_new=cars_new[(cars_new.price > LL) & (cars_new.price  < UL)]"
   ]
  },
  {
   "cell_type": "code",
   "execution_count": null,
   "id": "b3d0de8b",
   "metadata": {},
   "outputs": [],
   "source": [
    "sns.boxplot(cars_new.price)"
   ]
  },
  {
   "cell_type": "code",
   "execution_count": null,
   "id": "7ddd69f5",
   "metadata": {},
   "outputs": [],
   "source": [
    "cars_new.price.describe()"
   ]
  },
  {
   "cell_type": "markdown",
   "id": "a83e0740",
   "metadata": {},
   "source": [
    " <b>Mileage</b> "
   ]
  },
  {
   "cell_type": "code",
   "execution_count": null,
   "id": "a51c19e9",
   "metadata": {},
   "outputs": [],
   "source": [
    "sns.boxplot(np.log(cars_new.price)) # A lot of duplicates here as well. Let's remove them for our model."
   ]
  },
  {
   "cell_type": "code",
   "execution_count": null,
   "id": "492a9186",
   "metadata": {},
   "outputs": [],
   "source": [
    "outlier_limits(cars_new.mileage)\n",
    "UL, LL = outlier_limits(cars_new[\"mileage\"])"
   ]
  },
  {
   "cell_type": "code",
   "execution_count": null,
   "id": "97fe6983",
   "metadata": {},
   "outputs": [],
   "source": [
    "cars_new=cars_new[(cars_new.mileage > LL) & (cars_new.mileage  < UL)]"
   ]
  },
  {
   "cell_type": "code",
   "execution_count": null,
   "id": "3b6e15c9",
   "metadata": {},
   "outputs": [],
   "source": [
    "sns.boxplot(cars_new.mileage)"
   ]
  },
  {
   "cell_type": "markdown",
   "id": "019b2bfb",
   "metadata": {},
   "source": [
    "* Let's get our dummy variables for the categorical variables."
   ]
  },
  {
   "cell_type": "code",
   "execution_count": null,
   "id": "58fe191b",
   "metadata": {
    "scrolled": true
   },
   "outputs": [],
   "source": [
    "dummy_columns=['make','color','body_type','drivetrain','transmission','fuel_type']\n",
    "\n",
    "cars_new_expanded = pd.get_dummies(cars_new)\n",
    "cars_new_expanded.head()"
   ]
  },
  {
   "cell_type": "code",
   "execution_count": null,
   "id": "e8e60a12",
   "metadata": {},
   "outputs": [],
   "source": [
    "pd.set_option('display.float_format', lambda x: '%.6f' % x) #Just a formatting script\n",
    "\n",
    "std = StandardScaler()\n",
    "cars_new_expanded_std = std.fit_transform(cars_new_expanded)\n",
    "cars_new_expanded_std = pd.DataFrame(cars_new_expanded_std, columns = cars_new_expanded.columns)\n",
    "print(cars_new_expanded_std.shape)\n",
    "cars_new_expanded_std.head()"
   ]
  },
  {
   "cell_type": "code",
   "execution_count": null,
   "id": "4b2db3fe",
   "metadata": {},
   "outputs": [],
   "source": [
    "X_train, X_test, y_train, y_test = train_test_split(cars_new_expanded_std.drop(columns = ['price']), cars_new_expanded_std[['price']])\n",
    "print(X_train.shape)\n",
    "print(X_test.shape)\n",
    "print(y_train.shape)\n",
    "print(y_test.shape)"
   ]
  },
  {
   "cell_type": "markdown",
   "id": "0dc4effc",
   "metadata": {},
   "source": [
    "### Step 8: Modelling\n",
    "\n",
    "With dummy variables added to our dataset, I ended up with a lot of variables on my hand. For this reason, I am using SelectKBest function from sklearn to choose optimal number of variables from the dataset.\n",
    "\n",
    "I randomly decide that the final number of variables could be anything from 3 to 100."
   ]
  },
  {
   "cell_type": "code",
   "execution_count": null,
   "id": "24443d88",
   "metadata": {},
   "outputs": [],
   "source": [
    "column_names = cars_new_expanded_std.drop(columns = ['price']).columns\n",
    "\n",
    "no_of_features = []\n",
    "r_squared_train = []\n",
    "r_squared_test = []\n",
    "\n",
    "for k in range(3, 100, 2):\n",
    "    selector = SelectKBest(f_regression, k = k)\n",
    "    X_train_transformed = selector.fit_transform(X_train, y_train)\n",
    "    X_test_transformed = selector.transform(X_test)\n",
    "    regressor = LinearRegression()\n",
    "    regressor.fit(X_train_transformed, y_train)\n",
    "    no_of_features.append(k)\n",
    "    r_squared_train.append(regressor.score(X_train_transformed, y_train))\n",
    "    r_squared_test.append(regressor.score(X_test_transformed, y_test))\n",
    "    \n",
    "sns.lineplot(x = no_of_features, y = r_squared_train, legend = 'full')\n",
    "sns.lineplot(x = no_of_features, y = r_squared_test, legend = 'full')"
   ]
  },
  {
   "cell_type": "markdown",
   "id": "84e78834",
   "metadata": {},
   "source": [
    "We get an R score of around 0.725 with around 60 variables. It goes up to 0.75 with nearly 100 variables. It is not worth having extra 45 variables for an 0.025 additional points.\n",
    "\n",
    "I keep k as 60 and let the machine choose best variables."
   ]
  },
  {
   "cell_type": "code",
   "execution_count": null,
   "id": "102cef5e",
   "metadata": {},
   "outputs": [],
   "source": [
    "selector = SelectKBest(f_regression, k = 60)\n",
    "X_train_transformed = selector.fit_transform(X_train, y_train)\n",
    "X_test_transformed = selector.transform(X_test)\n",
    "column_names[selector.get_support()]"
   ]
  },
  {
   "cell_type": "code",
   "execution_count": null,
   "id": "2f52142d",
   "metadata": {},
   "outputs": [],
   "source": [
    "def regression_model(model):\n",
    "    \"\"\"\n",
    "    Will fit the regression model passed and will return the regressor object and the score\n",
    "    \"\"\"\n",
    "    regressor = model\n",
    "    regressor.fit(X_train_transformed, y_train)\n",
    "    score = regressor.score(X_test_transformed, y_test)\n",
    "    return regressor, score"
   ]
  },
  {
   "cell_type": "code",
   "execution_count": null,
   "id": "43b24c33",
   "metadata": {},
   "outputs": [],
   "source": [
    "model_performance = pd.DataFrame(columns = [\"Features\", \"Model\", \"Score\"])\n",
    "\n",
    "models_to_evaluate = [LinearRegression(), Ridge(), Lasso(), SVR(), RandomForestRegressor(), MLPRegressor()]\n",
    "\n",
    "for model in models_to_evaluate:\n",
    "    regressor, score = regression_model(model)\n",
    "    model_performance = model_performance.append({\"Features\": \"Linear\",\"Model\": model, \"Score\": score}, ignore_index=True)\n",
    "\n",
    "model_performance"
   ]
  },
  {
   "cell_type": "markdown",
   "id": "0645669c",
   "metadata": {},
   "source": [
    "### Conclusion:\n",
    "\n",
    "I got a maximum R^2 score of 0.877 with DecisionTreeRegressor. That means that our model can explain 87.7% of the variation in the used car prices. This is a pretty good score for one. That being said, its actual performance would show when it is tested with new data points in the future. \n",
    "\n",
    "If I had more time, I would explore further transformations and fine-tuning like polynomial features and try to increase model performance. I would also love to deploy this model with a user-friendly interface.\n",
    "\n",
    "I would be curious to have more historic data and account for COVID's impact on the used car market. We've all witnessed that the pandemic has hit the broader auto industry hard. The dataset provided had been collected in the early days of COVID. If I had more time, I would look for more recent data points in order to check if there is any sign of post-pandemic recovery. More time-series data would also help us perform some predictive analysis on Time to Sell as well.\n",
    "\n",
    "As I mentioned halfway through the project, I have had my own experience looking for a used car very recently. At that time, I've discovered how valuable CARFAX reports could be. If I had more time, I would have looked for ways to get more recent data with non-expired CARFAX links which I would scrape to extract more information like trim level, passenger, liens and accident claim records. \n",
    "\n",
    "More data points could mean more geographic coverage as well. This dataset also covers Ontario with few exceptions. However, Gear operates in four provinces and should be able to provide estimates. I am pretty sure that used car prices show difference depending on province.\n",
    "\n",
    "In addition to all the points I made above, I think that the domain knowledge also plays a key part. If I had more time, I would have loved to discuss various realities of the sector with someone experienced in the industry and adjusted my analysis accordingly."
   ]
  },
  {
   "cell_type": "raw",
   "id": "bcf26b82",
   "metadata": {},
   "source": []
  },
  {
   "cell_type": "code",
   "execution_count": null,
   "id": "6ca81bd4",
   "metadata": {},
   "outputs": [],
   "source": []
  }
 ],
 "metadata": {
  "kernelspec": {
   "display_name": "Python 3 (ipykernel)",
   "language": "python",
   "name": "python3"
  },
  "language_info": {
   "codemirror_mode": {
    "name": "ipython",
    "version": 3
   },
   "file_extension": ".py",
   "mimetype": "text/x-python",
   "name": "python",
   "nbconvert_exporter": "python",
   "pygments_lexer": "ipython3",
   "version": "3.9.7"
  }
 },
 "nbformat": 4,
 "nbformat_minor": 5
}
